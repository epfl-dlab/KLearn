{
 "cells": [
  {
   "cell_type": "code",
   "execution_count": 1,
   "metadata": {},
   "outputs": [],
   "source": [
    "import json\n",
    "import os\n",
    "import random\n",
    "import numpy as np\n",
    "import gzip\n",
    "import copy\n",
    "from sklearn.manifold import MDS\n",
    "from sklearn import preprocessing\n",
    "from sklearn import decomposition\n",
    "from nltk.stem.snowball import SnowballStemmer\n",
    "stemmer = SnowballStemmer(\"english\")"
   ]
  },
  {
   "cell_type": "code",
   "execution_count": 2,
   "metadata": {},
   "outputs": [],
   "source": [
    "import sys\n",
    "sys.path.insert(0, os.path.abspath('..'))"
   ]
  },
  {
   "cell_type": "code",
   "execution_count": 3,
   "metadata": {},
   "outputs": [],
   "source": [
    "from klearn import IT\n",
    "from klearn import utils"
   ]
  },
  {
   "cell_type": "code",
   "execution_count": 4,
   "metadata": {},
   "outputs": [],
   "source": [
    "import pandas as pd\n",
    "import seaborn as sns\n",
    "import copy\n",
    "import matplotlib.pyplot as plt\n",
    "import matplotlib.patches as mpatches\n",
    "from matplotlib.lines import Line2D"
   ]
  },
  {
   "cell_type": "code",
   "execution_count": 5,
   "metadata": {},
   "outputs": [],
   "source": [
    "import matplotlib.font_manager as font_manager\n",
    "from matplotlib.lines import Line2D\n",
    "import matplotlib.ticker as mtick\n",
    "import matplotlib.pyplot as plt\n",
    "import matplotlib as mpl\n",
    "import seaborn as sns\n",
    "import os\n",
    "fontpath = os.path.expanduser('~/Downloads/LinLibertine_DRah.ttf')\n",
    "prop = font_manager.FontProperties(fname=fontpath)\n",
    "\n",
    "params = {\n",
    "    \"axes.titlesize\" : 16,\n",
    "    'axes.labelsize': 14,\n",
    "    'font.size': 14,\n",
    "    'legend.fontsize': 14,\n",
    "    'xtick.labelsize': 14,\n",
    "    'ytick.labelsize': 12,\n",
    "    'font.family': prop.get_name(),\n",
    "    'text.usetex': True\n",
    "}\n",
    "\n",
    "mpl.rcParams.update(params)"
   ]
  },
  {
   "cell_type": "code",
   "execution_count": 6,
   "metadata": {},
   "outputs": [],
   "source": [
    "INPUT_FOLDER = '/Users/peyrardm/Documents/NLP/KLearn-preprocess/data_converted'\n",
    "# INPUT_FOLDER = 'data'"
   ]
  },
  {
   "cell_type": "code",
   "execution_count": 7,
   "metadata": {},
   "outputs": [],
   "source": [
    "dataset_08 = utils.load_data(os.path.join(INPUT_FOLDER, 'TAC2008_1.pkl'))\n",
    "dataset_09 = utils.load_data(os.path.join(INPUT_FOLDER, 'TAC2009_1.pkl'))\n",
    "dataset = copy.copy(dataset_08)\n",
    "dataset.update(dataset_09)"
   ]
  },
  {
   "cell_type": "code",
   "execution_count": 8,
   "metadata": {},
   "outputs": [],
   "source": [
    "def read_json(filepath):\n",
    "    with open(filepath, 'r') as f:\n",
    "        return json.loads(f.read())"
   ]
  },
  {
   "cell_type": "code",
   "execution_count": 9,
   "metadata": {},
   "outputs": [],
   "source": [
    "def build_corr(annotators_K):\n",
    "    keys = annotators_K.keys()\n",
    "    idx = range(len(keys))\n",
    "    keys_idx = dict(zip(keys, idx))\n",
    "    \n",
    "    sizes = []\n",
    "    annots = list(annotators_K.items())\n",
    "    corr = np.ones((len(keys), len(keys)))\n",
    "    for a_i, v_i in annots:\n",
    "        sizes.append(np.mean(utils.evaluate_K(dataset, v_i['K'], 1., 1.)))\n",
    "        for a_j, v_j in annots:\n",
    "            x_i = keys_idx[a_i]\n",
    "            x_j = keys_idx[a_j]\n",
    "            corr[x_i][x_j] = IT.JS(v_i['K'], v_j['K'])\n",
    "    return corr, keys_idx, np.array(sizes)"
   ]
  },
  {
   "cell_type": "markdown",
   "metadata": {},
   "source": [
    "# Plots"
   ]
  },
  {
   "cell_type": "code",
   "execution_count": 10,
   "metadata": {},
   "outputs": [],
   "source": [
    "def map_to_dataset(name):\n",
    "    if '8' in name:\n",
    "        return 'TAC-2008'\n",
    "    return 'TAC-2009'"
   ]
  },
  {
   "cell_type": "code",
   "execution_count": 11,
   "metadata": {},
   "outputs": [],
   "source": [
    "filename = '../outputs/assessors_Ks.json'\n",
    "with open(filename, 'r') as f:\n",
    "    annotators_K = json.loads(f.read())"
   ]
  },
  {
   "cell_type": "code",
   "execution_count": 15,
   "metadata": {},
   "outputs": [],
   "source": [
    "corr_ann, keys_idx_ann, sizes_ann = build_corr(annotators_K)"
   ]
  },
  {
   "cell_type": "code",
   "execution_count": 16,
   "metadata": {},
   "outputs": [],
   "source": [
    "X = corr_ann \n",
    "embedding = MDS(n_components=2, dissimilarity='precomputed')\n",
    "X_transformed = embedding.fit_transform(X)\n",
    "    \n",
    "annotators = [f for f, _ in sorted(keys_idx_ann.items(), key=lambda t: t[1])]\n",
    "annotators_dataset = [map_to_dataset(f) for f in annotators]\n",
    "x = X_transformed[:,0]\n",
    "y = X_transformed[:,1]\n",
    "\n",
    "data_annotator_ann = pd.DataFrame.from_dict({'X': x, 'Y': y, 'generalizability': sizes_ann, 'annotators':annotators, 'annotators_dataset': annotators_dataset})"
   ]
  },
  {
   "cell_type": "code",
   "execution_count": 12,
   "metadata": {},
   "outputs": [],
   "source": [
    "filename = '../outputs/domain_Ks.json'\n",
    "with open(filename, 'r') as f:\n",
    "    domains_K = json.loads(f.read())"
   ]
  },
  {
   "cell_type": "code",
   "execution_count": 13,
   "metadata": {},
   "outputs": [],
   "source": [
    "news_keys = {'LiveBlogs', 'TAC2008', 'TAC2009', 'NYT', 'CNN-DM', 'X-Sum'}\n",
    "News_subsets = dict([(key, K) for key, K in domains_K.items() if key in news_keys])\n",
    "Non_News_subsets = dict([(key, K) for key, K in domains_K.items() if key not in news_keys])"
   ]
  },
  {
   "cell_type": "code",
   "execution_count": 14,
   "metadata": {},
   "outputs": [],
   "source": [
    "def map_to_domain(name):\n",
    "    if name in Non_News_subsets:\n",
    "        return 'Non-News'\n",
    "    return 'News'"
   ]
  },
  {
   "cell_type": "code",
   "execution_count": 21,
   "metadata": {},
   "outputs": [],
   "source": [
    "corr_dom, keys_idx_dom, sizes_dom = build_corr(domains_K)"
   ]
  },
  {
   "cell_type": "code",
   "execution_count": 22,
   "metadata": {},
   "outputs": [],
   "source": [
    "X = corr_dom\n",
    "embedding = MDS(n_components=2, dissimilarity='precomputed')\n",
    "X_transformed = embedding.fit_transform(X)\n",
    "\n",
    "domain = [f for f, _ in sorted(keys_idx_dom.items(), key=lambda t: t[1])]\n",
    "domain_dataset = [map_to_domain(f) for f in domain]\n",
    "annotators = [f for f, _ in sorted(keys_idx_dom.items(), key=lambda t: t[1])]\n",
    "annotators_dataset = [map_to_domain(f) for f in annotators]\n",
    "x = X_transformed[:,0]\n",
    "y = X_transformed[:,1]\n",
    "    \n",
    "data_domain_MDS = pd.DataFrame.from_dict({'X': x, 'Y': y, 'generalizability': sizes_dom, 'domains':domain, 'domains_dataset': domain_dataset})"
   ]
  },
  {
   "cell_type": "code",
   "execution_count": 27,
   "metadata": {},
   "outputs": [
    {
     "data": {
      "image/png": "[encoded data removed]",
      "text/plain": [
       "<Figure size 720x360 with 2 Axes>"
      ]
     },
     "metadata": {},
     "output_type": "display_data"
    }
   ],
   "source": [
    "sns.set_context('paper')\n",
    "fig, axes = plt.subplots(1, 2, figsize=(10, 5))\n",
    "\n",
    "ax = axes[0]\n",
    "colors = ['tab:blue', 'tab:red', 'tab:grey']\n",
    "sns.scatterplot(x='X', y='Y', size='generalizability', color=colors[1], ax=ax,\n",
    "                        data=data_annotator_ann, sizes=(300,2000), palette=colors, legend=False, alpha=0.8)\n",
    "\n",
    "# for ann, x, y in zip(annotators_K.keys(), data_annotator_ann['X'].to_list(), data_annotator_ann['Y'].to_list()):\n",
    "#     ax.text(x-0.025, y-0.01, ann, color = 'white', fontsize=15)\n",
    "    \n",
    "ax.spines['right'].set_visible(False)\n",
    "ax.spines['top'].set_visible(False)\n",
    "ax.spines['left'].set_visible(False)\n",
    "ax.spines['bottom'].set_visible(False)\n",
    "ax.set_title('a) Annotators MDS', y=-0.1, fontsize=21)\n",
    "\n",
    "# ax.grid()\n",
    "ax.set_xticklabels([])\n",
    "ax.set_yticklabels([])\n",
    "ax.set_ylabel('')\n",
    "ax.set_xlabel('')\n",
    "ax.set_xlim([-0.6, 0.6])\n",
    "ax.set_ylim([-0.6, 0.6])\n",
    "for tic in ax.xaxis.get_major_ticks():\n",
    "    tic.tick1On = tic.tick2On = False\n",
    "    tic.label1On = tic.label2On = False\n",
    "    \n",
    "for tic in ax.yaxis.get_major_ticks():\n",
    "    tic.tick1On = tic.tick2On = False\n",
    "    tic.label1On = tic.label2On = False\n",
    "\n",
    "ax = axes[1]\n",
    "\n",
    "sns.scatterplot(x='X', y='Y', size='generalizability', hue='domains_dataset', ax=ax,\n",
    "                        data=data_domain_MDS, sizes=(200,2000), palette=[colors[0], colors[2]], legend=False, alpha=0.8)\n",
    "\n",
    "for dom, x, y in zip(domains_K.keys(), data_domain_MDS['X'].to_list(), data_domain_MDS['Y'].to_list()):\n",
    "    if dom == 'TAC2008':\n",
    "        dom = 'TAC08'\n",
    "    elif dom == 'TAC2009':\n",
    "        dom = 'TAC09'\n",
    "    elif dom == 'CNN-DM':\n",
    "        dom = 'CNN'\n",
    "    ax.text(x-0.02, y-0.01, dom, color = 'black', fontsize=17)\n",
    "    \n",
    "ax.spines['right'].set_visible(False)\n",
    "ax.spines['top'].set_visible(False)\n",
    "ax.spines['left'].set_visible(False)\n",
    "ax.spines['bottom'].set_visible(False)\n",
    "ax.set_title('b) Domains MDS', y=-0.1, fontsize=21)\n",
    "\n",
    "# ax.grid()\n",
    "ax.set_xticklabels([])\n",
    "ax.set_yticklabels([])\n",
    "ax.set_ylabel('')\n",
    "ax.set_xlabel('')\n",
    "\n",
    "for tic in ax.xaxis.get_major_ticks():\n",
    "    tic.tick1On = tic.tick2On = False\n",
    "    tic.label1On = tic.label2On = False\n",
    "    \n",
    "for tic in ax.yaxis.get_major_ticks():\n",
    "    tic.tick1On = tic.tick2On = False\n",
    "    tic.label1On = tic.label2On = False\n",
    "    \n",
    "#g.get_legend().set_visible(False)\n",
    "legend_elem = [\n",
    "                mpatches.Patch(facecolor=colors[1], label='Annotators', alpha=0.8),\n",
    "                mpatches.Patch(facecolor=colors[0], label='Non-News', alpha=0.8),\n",
    "                mpatches.Patch(facecolor=colors[2], label='News', alpha=0.8)]\n",
    "                   \n",
    "fig.legend(handles=legend_elem, ncol=3, loc='upper center', frameon=False, fontsize=21,  bbox_to_anchor=(0.5, 1.08))\n",
    "ax.set_ylabel('')\n",
    "ax.set_xlabel('')\n",
    "fig.tight_layout(pad=1.05)\n",
    "fig.savefig(\"../outputs/mds.pdf\", bbox_inches=\"tight\")"
   ]
  },
  {
   "cell_type": "code",
   "execution_count": 15,
   "metadata": {},
   "outputs": [],
   "source": [
    "TAC08_ann = [ann for ann in annotators_K.keys() if '8' in ann]\n",
    "TAC09_ann = [ann for ann in annotators_K.keys() if '9' in ann]\n",
    "\n",
    "x,y = [], []\n",
    "nb_samples = 3\n",
    "for nb_avg in range(1, int(len(annotators_K) /2.) , 3):\n",
    "    for _ in range(nb_samples):\n",
    "        ## Select from TAC-08 and evaluate on TAC-09\n",
    "        selected_keys = random.sample(TAC08_ann, nb_avg)\n",
    "        average_K = IT.avg([v['K'] for key, v in annotators_K.items() if key in selected_keys])\n",
    "        \n",
    "        x.append(nb_avg)\n",
    "        y.append(np.mean(utils.evaluate_K(dataset_09, average_K, 1, 1)))\n",
    "        \n",
    "        ## Select from TAC-09 and evaluate on TAC-08\n",
    "        selected_keys = random.sample(TAC09_ann, nb_avg)\n",
    "        average_K = IT.avg([v['K'] for key, v in annotators_K.items() if key in selected_keys])\n",
    "        \n",
    "        x.append(nb_avg)\n",
    "        y.append(np.mean(utils.evaluate_K(dataset_08, average_K, 1, 1)))\n",
    "        \n",
    "averaging_generalizability_ann_test = pd.DataFrame.from_dict({'# annotators averaged': x, 'Correlation with humans': y})"
   ]
  },
  {
   "cell_type": "code",
   "execution_count": 16,
   "metadata": {},
   "outputs": [],
   "source": [
    "x,y = [], []\n",
    "nb_samples = 3\n",
    "for nb_avg in range(1, len(annotators_K), 3):\n",
    "    for _ in range(nb_samples):\n",
    "        selected_keys = random.sample(annotators_K.keys(), nb_avg)\n",
    "        average_K = IT.avg([v['K'] for key, v in annotators_K.items() if key in selected_keys])\n",
    "        \n",
    "        x.append(nb_avg)\n",
    "        y.append(np.mean(utils.evaluate_K(dataset, average_K, 1, 1)))\n",
    "\n",
    "full_avg = IT.avg([v['K'] for key, v in annotators_K.items()])\n",
    "x.append(len(annotators_K))\n",
    "y.append(np.mean(utils.evaluate_K(dataset, full_avg, 1, 1)))\n",
    "#x.append(len(annotators_K))\n",
    "#y.append(utils.evaluate_K(dataset, full_avg, 1, 1))\n",
    "averaging_generalizability_ann = pd.DataFrame.from_dict({'# annotators averaged': x, 'Correlation with humans': y})"
   ]
  },
  {
   "cell_type": "code",
   "execution_count": 17,
   "metadata": {},
   "outputs": [],
   "source": [
    "x,y = [], []\n",
    "nb_samples = 6\n",
    "for nb_avg in range(1, len(Non_News_subsets), 2):\n",
    "    for _ in range(nb_samples):\n",
    "        selected_keys = random.sample(Non_News_subsets.keys(), nb_avg)\n",
    "        average_K = IT.avg([v['K'] for key, v in Non_News_subsets.items() if key in selected_keys])\n",
    "        \n",
    "        x.append(nb_avg)\n",
    "        y.append(np.mean(utils.evaluate_K(dataset, average_K, 1, 1)))\n",
    "\n",
    "#full_avg = IT.avg([K for key, K in Non_News_subsets.items()])\n",
    "#x.append(len(News_subsets))\n",
    "#y.append(pipeline.evaluate_generic_K(dataset, full_avg, 1, 1))\n",
    "averaging_generalizability_non_news = pd.DataFrame.from_dict({'# domains averaged': x, 'Correlation with humans': y})\n",
    "\n",
    "x,y = [], []\n",
    "nb_samples = 6\n",
    "for nb_avg in range(1, len(domains_K), 3):\n",
    "    for _ in range(nb_samples):\n",
    "        selected_keys = random.sample(domains_K.keys(), nb_avg)\n",
    "        average_K = IT.avg([v['K'] for key, v in domains_K.items() if key in selected_keys])\n",
    "        \n",
    "        x.append(nb_avg)\n",
    "        y.append(np.mean(utils.evaluate_K(dataset, average_K, 1, 1)))\n",
    "\n",
    "#full_avg = IT.avg([K for key, K in Non_News_subsets.items()])\n",
    "#x.append(len(News_subsets))\n",
    "#y.append(pipeline.evaluate_generic_K(dataset, full_avg, 1, 1))\n",
    "averaging_generalizability_dom = pd.DataFrame.from_dict({'# domains averaged': x, 'Correlation with humans': y})"
   ]
  },
  {
   "cell_type": "code",
   "execution_count": 18,
   "metadata": {},
   "outputs": [],
   "source": [
    "with open('/Users/peyrardm/Documents/NLP/KLearn-code/outputs/optimal_K_1_.json', 'r') as f:\n",
    "    optimal_K_1 =  json.loads(f.read())\n",
    "    \n",
    "# with open('../outputs/optimal_K_1_.json', 'r') as f:\n",
    "#     optimal_K_1 =  json.loads(f.read())\n",
    "\n",
    "def prepare_df(optimal):\n",
    "    columns = {}\n",
    "    for c in optimal[0].keys():\n",
    "        columns[c] = [opt_k[c] for opt_k in optimal]\n",
    "        \n",
    "    return pd.DataFrame.from_dict(columns)\n",
    "\n",
    "def build_stats_df(df):\n",
    "    mean_values = df.mean(axis=0)\n",
    "    se_values = df.sem(axis=0)\n",
    "    stats_df = pd.concat([mean_values.to_frame('mean'), se_values.to_frame('se')], axis=1)\n",
    "    stats_df['ci-95'] = 2.5 * stats_df['se']\n",
    "    return stats_df.sort_values(by='mean', ascending=False)  \n",
    "\n",
    "optimal_df = build_stats_df(prepare_df(optimal_K_1))\n",
    "\n",
    "optimal_K = optimal_df['mean'].to_dict()"
   ]
  },
  {
   "cell_type": "code",
   "execution_count": 19,
   "metadata": {},
   "outputs": [],
   "source": [
    "x,y = [], []\n",
    "nb_samples = 3\n",
    "for nb_avg in range(1, len(annotators_K), 3):\n",
    "    for _ in range(nb_samples):\n",
    "        selected_keys = random.sample(annotators_K.keys(), nb_avg)\n",
    "        average_K = IT.avg([v['K'] for key, v in annotators_K.items() if key in selected_keys])\n",
    "        \n",
    "        \n",
    "        x.append(nb_avg)\n",
    "        y.append(IT.KL(average_K, optimal_K))\n",
    "\n",
    "full_avg = IT.avg([v['K'] for key, v in annotators_K.items()])\n",
    "x.append(len(annotators_K))\n",
    "y.append(np.mean(utils.evaluate_K(dataset, full_avg, 1, 1)))\n",
    "#x.append(len(annotators_K))\n",
    "#y.append(utils.evaluate_K(dataset, full_avg, 1, 1))\n",
    "min_max_scaler = preprocessing.MinMaxScaler()\n",
    "y_scaled = min_max_scaler.fit_transform(np.array(y).reshape(-1, 1))\n",
    "\n",
    "dist_opt_ann = pd.DataFrame.from_dict({'# annotators averaged': x, 'Distance to Optimal': y_scaled[:,0]})\n",
    "\n",
    "x,y = [], []\n",
    "nb_samples = 6\n",
    "for nb_avg in range(1, len(domains_K), 3):\n",
    "    for _ in range(nb_samples):\n",
    "        selected_keys = random.sample(domains_K.keys(), nb_avg)\n",
    "        average_K = IT.avg([v['K'] for key, v in domains_K.items() if key in selected_keys])\n",
    "        \n",
    "        x.append(nb_avg)\n",
    "        y.append(IT.KL(average_K, optimal_K))\n",
    "\n",
    "#full_avg = IT.avg([K for key, K in Non_News_subsets.items()])\n",
    "#x.append(len(News_subsets))\n",
    "#y.append(pipeline.evaluate_generic_K(dataset, full_avg, 1, 1))\n",
    "\n",
    "min_max_scaler = preprocessing.MinMaxScaler()\n",
    "y_scaled = min_max_scaler.fit_transform(np.array(y).reshape(-1, 1))\n",
    "\n",
    "dist_opt_dom = pd.DataFrame.from_dict({'# domains averaged': x, 'Distance to Optimal': y_scaled[:,0]})\n",
    "\n",
    "x,y = [], []\n",
    "nb_samples = 6\n",
    "for nb_avg in range(1, len(Non_News_subsets), 3):\n",
    "    for _ in range(nb_samples):\n",
    "        selected_keys = random.sample(Non_News_subsets.keys(), nb_avg)\n",
    "        average_K = IT.avg([v['K'] for key, v in domains_K.items() if key in selected_keys])\n",
    "        \n",
    "        x.append(nb_avg)\n",
    "        y.append(IT.KL(average_K, optimal_K))\n",
    "\n",
    "#full_avg = IT.avg([K for key, K in Non_News_subsets.items()])\n",
    "#x.append(len(News_subsets))\n",
    "#y.append(pipeline.evaluate_generic_K(dataset, full_avg, 1, 1))\n",
    "\n",
    "min_max_scaler = preprocessing.MinMaxScaler()\n",
    "y_scaled = min_max_scaler.fit_transform(np.array(y).reshape(-1, 1))\n",
    "\n",
    "dist_opt_dom_non_news = pd.DataFrame.from_dict({'# domains averaged': x, 'Distance to Optimal': y_scaled[:,0]})"
   ]
  },
  {
   "cell_type": "code",
   "execution_count": 97,
   "metadata": {},
   "outputs": [
    {
     "data": {
      "image/png": "[encoded data removed]",
      "text/plain": [
       "<Figure size 576x720 with 2 Axes>"
      ]
     },
     "metadata": {
      "needs_background": "light"
     },
     "output_type": "display_data"
    }
   ],
   "source": [
    "#sns.set_context('paper')\n",
    "fig, axes = plt.subplots(2, 1, figsize=(8, 10), sharey=False, sharex=False)\n",
    "\n",
    "ax = axes[0]\n",
    "\n",
    "x = averaging_generalizability_ann_test[:-1].groupby('# annotators averaged').mean().index.to_list()\n",
    "y = averaging_generalizability_ann_test[:-1].groupby('# annotators averaged').mean()['Correlation with humans'].to_list()\n",
    "yerr = 1.96*averaging_generalizability_ann_test[:-1].groupby('# annotators averaged').sem()['Correlation with humans'].to_numpy()\n",
    "\n",
    "ax.errorbar(x,y,yerr, elinewidth=2, linewidth=2, fmt='-x', mew=2, ms=7, color='tab:red')\n",
    "ax.set_ylim(0.0,0.50)\n",
    "\n",
    "#ax.axhline(y=0.2, ls='--', linewidth=2, c='tab:green', label='Baseline')\n",
    "# ax.axhline(y=0.45, ls='--', linewidth=2, c='#34495e', label='hPL')\n",
    "\n",
    "ax.set_xlabel('Number of annotators averaged', fontsize=18)\n",
    "ax.set_ylabel('Correlation with humans', fontsize=18)\n",
    "\n",
    "ax.spines['right'].set_visible(False)\n",
    "ax.spines['top'].set_visible(False)\n",
    "\n",
    "\n",
    "\n",
    "x = averaging_generalizability_dom.groupby('# domains averaged').mean().index.to_list()\n",
    "y = averaging_generalizability_dom.groupby('# domains averaged').mean()['Correlation with humans'].to_list()\n",
    "yerr = 1.96*averaging_generalizability_dom.groupby('# domains averaged').sem()['Correlation with humans'].to_numpy()\n",
    "\n",
    "ax.errorbar(x,y,yerr,elinewidth=2, linewidth=2, fmt='-o', ms=7, color='tab:grey')\n",
    "\n",
    "x = averaging_generalizability_non_news.groupby('# domains averaged').mean().index.to_list()\n",
    "y = averaging_generalizability_non_news.groupby('# domains averaged').mean()['Correlation with humans'].to_list()\n",
    "yerr = 1.96*averaging_generalizability_non_news.groupby('# domains averaged').sem()['Correlation with humans'].to_numpy()\n",
    "\n",
    "ax.errorbar(x,y,yerr,elinewidth=2, linewidth=2, fmt='-s', ms=7, color='tab:blue')\n",
    "\n",
    "ax.set_ylim(0.0,0.50)\n",
    "ax.set_xlim(0,14)\n",
    "\n",
    "ax.spines['right'].set_visible(False)\n",
    "ax.spines['top'].set_visible(False)\n",
    "\n",
    "ax.axhline(y=0.17, ls='--', linewidth=2, c='tab:green', label='Baseline')\n",
    "ax.axhline(y=0.45, ls='--', linewidth=2, c=\"#34495e\", label='hPL')\n",
    "\n",
    "ax.set_xlabel('Number of annotators/domains averaged', fontsize=18)\n",
    "ax.set_title('a) Correlation improvements', fontsize=23, y=-0.3)\n",
    "#ax.set_ylabel('Correlation with humans', fontsize=13)\n",
    "\n",
    "\n",
    "\n",
    "\n",
    "ax = axes[1]\n",
    "\n",
    "\n",
    "\n",
    "x = dist_opt_ann.groupby('# annotators averaged').mean().index.to_list()\n",
    "y = dist_opt_ann.groupby('# annotators averaged').mean()['Distance to Optimal'].to_list()\n",
    "yerr = 2*dist_opt_ann.groupby('# annotators averaged').sem()['Distance to Optimal'].to_numpy()\n",
    "\n",
    "ax.errorbar(x,y,yerr, elinewidth=2, linewidth=2, fmt='-x', mew=2, ms=7, color='tab:red')\n",
    "\n",
    "\n",
    "ax.set_xlabel('Number of annotators/domains averaged', fontsize=18)\n",
    "ax.set_ylabel('Normalized distance to optimal K', fontsize=18)\n",
    "\n",
    "ax.spines['right'].set_visible(False)\n",
    "ax.spines['top'].set_visible(False)\n",
    "\n",
    "\n",
    "x = dist_opt_dom.groupby('# domains averaged').mean().index.to_list()\n",
    "y = dist_opt_dom.groupby('# domains averaged').mean()['Distance to Optimal'].to_list()\n",
    "yerr = 2*dist_opt_dom.groupby('# domains averaged').sem()['Distance to Optimal'].to_numpy()\n",
    "\n",
    "ax.errorbar(x,y,yerr,elinewidth=2, linewidth=2, fmt='-o', ms=7, color='tab:grey')\n",
    "\n",
    "x = dist_opt_dom_non_news.groupby('# domains averaged').mean().index.to_list()\n",
    "y = dist_opt_dom_non_news.groupby('# domains averaged').mean()['Distance to Optimal'].to_list()\n",
    "yerr = 2*dist_opt_dom_non_news.groupby('# domains averaged').sem()['Distance to Optimal'].to_numpy()\n",
    "\n",
    "ax.errorbar(x,y,yerr,elinewidth=2, linewidth=2, fmt='-s', ms=7, color='tab:blue')\n",
    "ax.set_title('b) Reduced distance to optimal', fontsize=23, y=-0.3)\n",
    "\n",
    "\n",
    "#g.legend().set_visible(False)\n",
    "legend_elem = [Line2D([0], [0], linestyle='--', linewidth=2, c='tab:green', label='Baseline (no average)'),\n",
    "               Line2D([0], [0], linestyle='--', linewidth=2, c=\"#34495e\", label='Optimal (HPL)'),\n",
    "               Line2D([0], [0], marker='x', linewidth=2, ms=9, mew=2, c='tab:red', label='Annotators'),\n",
    "               Line2D([0], [0], marker='o', linewidth=2, ms=9, c='tab:grey', label='All domains'),\n",
    "              Line2D([0], [0], marker='s', linewidth=2, ms=9, c='tab:blue', label='Non-News domains')]\n",
    "\n",
    "fig.legend(handles=legend_elem, ncol=2, loc='upper center', frameon=False, fontsize=21,  bbox_to_anchor=(0.55, 1.15))\n",
    "#fig.legend(handles=legend_elem, fontsize=13)\n",
    "fig.tight_layout(pad=1.1)\n",
    "fig.savefig(\"../outputs/averaging_double.pdf\", bbox_inches=\"tight\")"
   ]
  },
  {
   "cell_type": "markdown",
   "metadata": {},
   "source": [
    "# Annotator Analysis"
   ]
  },
  {
   "cell_type": "markdown",
   "metadata": {},
   "source": [
    "### Averaging improves performances"
   ]
  },
  {
   "cell_type": "code",
   "execution_count": 52,
   "metadata": {},
   "outputs": [],
   "source": [
    "TAC08_ann = [ann for ann in annotators_K.keys() if '8' in ann]\n",
    "TAC09_ann = [ann for ann in annotators_K.keys() if '9' in ann]\n",
    "\n",
    "x,y = [], []\n",
    "nb_samples = 3\n",
    "for nb_avg in range(1, int(len(annotators_K) /2.) , 3):\n",
    "    for _ in range(nb_samples):\n",
    "        ## Select from TAC-08 and evaluate on TAC-09\n",
    "        selected_keys = random.sample(TAC08_ann, nb_avg)\n",
    "        average_K = IT.avg([v['K'] for key, v in annotators_K.items() if key in selected_keys])\n",
    "        \n",
    "        x.append(nb_avg)\n",
    "        y.append(np.mean(utils.evaluate_K(dataset_09, average_K, 1, 1)))\n",
    "        \n",
    "        ## Select from TAC-09 and evaluate on TAC-08\n",
    "        #selected_keys = random.sample(TAC09_ann, nb_avg)\n",
    "        #average_K = IT.avg([v['K'] for key, v in annotators_K.items() if key in selected_keys])\n",
    "        \n",
    "        #x.append(nb_avg)\n",
    "        #y.append(np.mean(utils.evaluate_K(dataset_08, average_K, 1, 1)))\n",
    "\n",
    "\n",
    "\n",
    "#full_avg = IT.avg([v['K'] for key, v in annotators_K.items()])\n",
    "#x.append(len(annotators_K))\n",
    "#y.append(np.mean(utils.evaluate_K(dataset, full_avg, 1, 1)))\n",
    "#x.append(len(annotators_K))\n",
    "#y.append(utils.evaluate_K(dataset, full_avg, 1, 1))\n",
    "averaging_generalizability_ann_test = pd.DataFrame.from_dict({'# annotators averaged': x, 'Correlation with humans': y})"
   ]
  },
  {
   "cell_type": "markdown",
   "metadata": {},
   "source": [
    "# Plots For Paper"
   ]
  },
  {
   "cell_type": "code",
   "execution_count": 9,
   "metadata": {},
   "outputs": [],
   "source": [
    "def build_corr_geom(annotators_K):\n",
    "    keys = annotators_K.keys()\n",
    "    idx = range(len(keys))\n",
    "    keys_idx = dict(zip(keys, idx))\n",
    "    \n",
    "    sizes = []\n",
    "    annots = list(annotators_K.items())\n",
    "    corr = np.ones((len(keys), len(keys)))\n",
    "    for a_i, v_i in annots:\n",
    "        #sizes.append(np.mean(utils.evaluate_K(dataset, v_i['K'], 1., 1.)))\n",
    "        for a_j, v_j in annots:\n",
    "            x_i = keys_idx[a_i]\n",
    "            x_j = keys_idx[a_j]\n",
    "            corr[x_i][x_j] = IT.JS(v_i, v_j)\n",
    "    return corr, keys_idx, np.array(sizes)"
   ]
  },
  {
   "cell_type": "code",
   "execution_count": 16,
   "metadata": {},
   "outputs": [],
   "source": [
    "with open('../../KLearn-code/outputs/optimal_K_1_.json', 'r') as f:\n",
    "    optimal_K_1 =  json.loads(f.read())\n",
    "    \n",
    "def prepare_df(optimal):\n",
    "    columns = {}\n",
    "    for c in optimal[0].keys():\n",
    "        columns[c] = [opt_k[c] for opt_k in optimal]\n",
    "        \n",
    "    return pd.DataFrame.from_dict(columns)\n",
    "\n",
    "def build_stats_df(df):\n",
    "    mean_values = df.mean(axis=0)\n",
    "    se_values = df.sem(axis=0)\n",
    "    stats_df = pd.concat([mean_values.to_frame('mean'), se_values.to_frame('se')], axis=1)\n",
    "    stats_df['ci-95'] = 2.5 * stats_df['se']\n",
    "    return stats_df.sort_values(by='mean', ascending=False)  \n",
    "\n",
    "optimal_df = build_stats_df(prepare_df(optimal_K_1))\n",
    "optimal_K = optimal_df['mean'].to_dict()"
   ]
  },
  {
   "cell_type": "code",
   "execution_count": 19,
   "metadata": {},
   "outputs": [
    {
     "name": "stdout",
     "output_type": "stream",
     "text": [
      "0.4566147878345657\n",
      "14.493371212121213\n"
     ]
    }
   ],
   "source": [
    "a = np.mean(utils.evaluate_K(dataset_08, optimal_K, 1., 1.))\n",
    "b = np.mean(utils.evaluate_K(dataset_09, optimal_K, 1., 1.))\n",
    "print((a + b)/2)\n",
    "a = np.mean(utils.evaluate_MR(dataset_08, optimal_K, 1., 1.))\n",
    "b = np.mean(utils.evaluate_MR(dataset_09, optimal_K, 1., 1.))\n",
    "print((a + b)/2)"
   ]
  },
  {
   "cell_type": "code",
   "execution_count": 51,
   "metadata": {},
   "outputs": [],
   "source": [
    "with open('assessor_topics.json', 'r') as f:\n",
    "    assessors = json.loads(f.read())"
   ]
  },
  {
   "cell_type": "code",
   "execution_count": 86,
   "metadata": {},
   "outputs": [],
   "source": [
    "documents_to_keep = [k for k,v in assessors.items() if v == 'E9'] "
   ]
  },
  {
   "cell_type": "code",
   "execution_count": 87,
   "metadata": {},
   "outputs": [
    {
     "name": "stdout",
     "output_type": "stream",
     "text": [
      "['D0910', 'D0925', 'D0926', 'D0927', 'D0928', 'D0929', 'D0939']\n"
     ]
    }
   ],
   "source": [
    "print(documents_to_keep)"
   ]
  },
  {
   "cell_type": "code",
   "execution_count": 88,
   "metadata": {},
   "outputs": [],
   "source": [
    "tac2009 = utils.load_data(os.path.join('/Users/peyrardm/Documents/NLP/KLearn-preprocess/data_converted', 'TAC2009_1.pkl'))"
   ]
  },
  {
   "cell_type": "code",
   "execution_count": 89,
   "metadata": {},
   "outputs": [],
   "source": [
    "text_rep = {}\n",
    "for k,v in tac2009.items():\n",
    "    if k in documents_to_keep:\n",
    "        if k == 'D0925':\n",
    "            continue\n",
    "        text_rep['doc-{}'.format(k)] = v.doc_freq\n",
    "        kept = sorted(v.annotations, key=lambda t: t['pyr_score'], reverse=True)[:4]\n",
    "        for i, summary in enumerate(kept):\n",
    "            text_rep['summary-{}-{}'.format(k, i)] = summary['freq']"
   ]
  },
  {
   "cell_type": "code",
   "execution_count": 90,
   "metadata": {},
   "outputs": [],
   "source": [
    "text_rep['K'] = optimal_K"
   ]
  },
  {
   "cell_type": "code",
   "execution_count": 91,
   "metadata": {},
   "outputs": [],
   "source": [
    "corr, keys_idx, _ = build_corr_geom(text_rep)"
   ]
  },
  {
   "cell_type": "code",
   "execution_count": 92,
   "metadata": {},
   "outputs": [],
   "source": [
    "def map_to_type(name):\n",
    "    if 'K' in name:\n",
    "        return 'K'\n",
    "    if 'summary' in name:\n",
    "        return 'summary'\n",
    "    if 'doc' in name:\n",
    "        return 'name'"
   ]
  },
  {
   "cell_type": "code",
   "execution_count": 93,
   "metadata": {},
   "outputs": [],
   "source": [
    "X = corr \n",
    "embedding = MDS(n_components=2, dissimilarity='precomputed')\n",
    "X_transformed = embedding.fit_transform(X)\n",
    "    \n",
    "rep = [f for f, _ in sorted(keys_idx.items(), key=lambda t: t[1])]\n",
    "rep_types = [map_to_type(f) for f in rep]\n",
    "x = X_transformed[:,0]\n",
    "y = X_transformed[:,1]\n",
    "\n",
    "data = pd.DataFrame.from_dict({'X': x, 'Y': y, 'rep':rep, 'rep_types': rep_types})"
   ]
  },
  {
   "cell_type": "code",
   "execution_count": 94,
   "metadata": {},
   "outputs": [],
   "source": [
    "def rand_jitter(arr):\n",
    "    stdev = .01*(max(arr)-min(arr))\n",
    "    return arr + np.random.randn(len(arr)) * stdev\n",
    "\n",
    "\n",
    "data_with_jitter = data.copy()\n",
    "data_with_jitter['X'] = rand_jitter(data_with_jitter['X'])\n",
    "data_with_jitter['Y'] = rand_jitter(data_with_jitter['Y'])"
   ]
  },
  {
   "cell_type": "code",
   "execution_count": 95,
   "metadata": {},
   "outputs": [],
   "source": [
    "# Remove jitter from K\n",
    "data_with_jitter.loc[data_with_jitter['rep'] == 'K', 'X'] = 0\n",
    "data_with_jitter.loc[data_with_jitter['rep'] == 'K', 'Y'] = 0"
   ]
  },
  {
   "cell_type": "code",
   "execution_count": 96,
   "metadata": {},
   "outputs": [
    {
     "data": {
      "text/plain": [
       "Text(0.5, 41.0, '')"
      ]
     },
     "execution_count": 96,
     "metadata": {},
     "output_type": "execute_result"
    },
    {
     "data": {
      "image/png": "[encoded data removed]",
      "text/plain": [
       "<Figure size 432x360 with 1 Axes>"
      ]
     },
     "metadata": {},
     "output_type": "display_data"
    }
   ],
   "source": [
    "import matplotlib.lines as mlines\n",
    "\n",
    "sns.set_context('paper')\n",
    "fig, ax = plt.subplots(1, 1, figsize=(6, 5))\n",
    "\n",
    "\n",
    "#plt.figure(figsize=(6,5))\n",
    "colors = ['tab:blue', 'tab:orange', 'tab:red']\n",
    "sns.scatterplot(x='X', y='Y', ax=ax, hue='rep_types', style=\"rep_types\", \n",
    "                        data=data_with_jitter, s=100, palette=colors, alpha=0.9, legend=False, zorder=120)\n",
    "\n",
    "#for ann, x, y in zip(annotators_K.keys(), x, y):\n",
    "#    ax.text(x-0.018, y-0.01, ann, color = 'white', fontsize=11)\n",
    "    \n",
    "ax.spines['right'].set_visible(False)\n",
    "ax.spines['top'].set_visible(False)\n",
    "ax.spines['left'].set_visible(False)\n",
    "ax.spines['bottom'].set_visible(False)\n",
    "\n",
    "ax.grid()\n",
    "#ax.set_xticklabels([])\n",
    "#ax.set_yticklabels([])\n",
    "\n",
    "for tic in ax.xaxis.get_major_ticks():\n",
    "    tic.tick1On = tic.tick2On = False\n",
    "    tic.label1On = tic.label2On = False\n",
    "    \n",
    "for tic in ax.yaxis.get_major_ticks():\n",
    "    tic.tick1On = tic.tick2On = False\n",
    "    tic.label1On = tic.label2On = False\n",
    "#ax.get_legend().set_visible(False)\n",
    "\n",
    "# l = mlines.Line2D([0,0.1], [0, 0.5], linestyle='--', linewidth=2, color='tab:grey', zorder=10, alpha=0.8)\n",
    "# ax.add_line(l)\n",
    "# l = mlines.Line2D([0,0.5], [0, 0.1], linestyle='--', linewidth=2, color='tab:grey', zorder=10, alpha=0.8)\n",
    "# ax.add_line(l)\n",
    "# l = mlines.Line2D([0,0.4], [0, -0.4], linestyle='--', linewidth=2, color='tab:grey', zorder=10, alpha=0.8)\n",
    "# ax.add_line(l)\n",
    "# l = mlines.Line2D([0,-0.1], [0, -0.45], linestyle='--', linewidth=2, color='tab:grey', zorder=10, alpha=0.8)\n",
    "# ax.add_line(l)\n",
    "# l = mlines.Line2D([0,-0.5], [0, -0.1], linestyle='--', linewidth=2, color='tab:grey', zorder=10, alpha=0.8)\n",
    "# ax.add_line(l)\n",
    "# l = mlines.Line2D([0,-0.4], [0, 0.4], linestyle='--', linewidth=2, color='tab:grey', zorder=10, alpha=0.8)\n",
    "# ax.add_line(l)\n",
    "    \n",
    "legend_elem = [\n",
    "#                 mpatches.Patch(facecolor=colors[0], label='Documents'),\n",
    "#                mpatches.Patch(facecolor=colors[1], label='Reference summaries'),\n",
    "#                mpatches.Patch(facecolor=colors[2], label='K (inferred by hPL)'),\n",
    "               Line2D([0], [0], marker='o', linestyle='', ms=9, c=colors[0], alpha=0.9, label='Documents'),\n",
    "               Line2D([0], [0], marker='x', linestyle='', ms=9, mew=3, c=colors[1], alpha=0.9, label='Reference summaries'),\n",
    "               Line2D([0], [0], marker='s', linestyle='', ms=9, c=colors[2], alpha=0.9, label='K (inferred by HPL)'),\n",
    "               Line2D([0], [0], linestyle='--', linewidth=2, c='tab:grey', alpha=0.9, label='Topic separation')\n",
    "              ]\n",
    "\n",
    "fig.legend(handles=legend_elem, ncol=2, loc='upper center', fontsize=15, bbox_to_anchor=(0.53, 1.1), frameon=False)\n",
    "fig.tight_layout(pad=1)\n",
    "ax.set_ylabel('')\n",
    "ax.set_xlabel('')\n",
    "# fig.savefig(\"../outputs/geometry.pdf\", bbox_inches=\"tight\")"
   ]
  },
  {
   "cell_type": "code",
   "execution_count": null,
   "metadata": {},
   "outputs": [],
   "source": []
  },
  {
   "cell_type": "code",
   "execution_count": null,
   "metadata": {},
   "outputs": [],
   "source": []
  }
 ],
 "metadata": {
  "hide_input": false,
  "kernelspec": {
   "display_name": "Python 3",
   "language": "python",
   "name": "python3"
  },
  "language_info": {
   "codemirror_mode": {
    "name": "ipython",
    "version": 3
   },
   "file_extension": ".py",
   "mimetype": "text/x-python",
   "name": "python",
   "nbconvert_exporter": "python",
   "pygments_lexer": "ipython3",
   "version": "3.7.3"
  },
  "latex_envs": {
   "LaTeX_envs_menu_present": true,
   "autoclose": false,
   "autocomplete": true,
   "bibliofile": "biblio.bib",
   "cite_by": "apalike",
   "current_citInitial": 1,
   "eqLabelWithNumbers": true,
   "eqNumInitial": 1,
   "hotkeys": {
    "equation": "Ctrl-E",
    "itemize": "Ctrl-I"
   },
   "labels_anchors": false,
   "latex_user_defs": false,
   "report_style_numbering": false,
   "user_envs_cfg": false
  }
 },
 "nbformat": 4,
 "nbformat_minor": 2
}
